{
 "cells": [
  {
   "cell_type": "code",
   "execution_count": 1,
   "id": "8de80fbe-7b7e-42ce-a923-4efcb679c3c6",
   "metadata": {
    "execution": {
     "iopub.execute_input": "2022-01-06T15:56:42.661923Z",
     "iopub.status.busy": "2022-01-06T15:56:42.661733Z",
     "iopub.status.idle": "2022-01-06T15:56:45.610036Z",
     "shell.execute_reply": "2022-01-06T15:56:45.609076Z",
     "shell.execute_reply.started": "2022-01-06T15:56:42.661898Z"
    },
    "tags": []
   },
   "outputs": [],
   "source": [
    "import pandas as pd\n",
    "import numpy as np\n",
    "\n",
    "import statsmodels.formula.api as smf\n",
    "\n",
    "from sklearn.linear_model import LogisticRegression\n",
    "from sklearn.ensemble import RandomForestClassifier\n",
    "from sklearn.tree import DecisionTreeClassifier\n",
    "from sklearn.neighbors import KNeighborsClassifier\n",
    "from sklearn import metrics\n",
    "from sklearn.model_selection import train_test_split\n",
    "from sklearn import preprocessing\n",
    "\n",
    "import cudf\n",
    "from cuml.ensemble import RandomForestClassifier as curfc\n",
    "from cuml.metrics.accuracy import accuracy_score as cuacc\n",
    "from cuml.metrics import roc_auc_score as cuauc\n",
    "from cuml.neighbors import KNeighborsClassifier\n",
    "from cuml.naive_bayes import GaussianNB\n",
    "from cuml.svm import SVC\n",
    "\n",
    "import matplotlib.pyplot as plt\n",
    "import seaborn as sns"
   ]
  },
  {
   "cell_type": "code",
   "execution_count": 2,
   "id": "f37bcf59-a351-4df4-aaf6-b7a8c8337ebc",
   "metadata": {
    "execution": {
     "iopub.execute_input": "2022-01-06T15:56:45.611526Z",
     "iopub.status.busy": "2022-01-06T15:56:45.611371Z",
     "iopub.status.idle": "2022-01-06T15:56:49.929403Z",
     "shell.execute_reply": "2022-01-06T15:56:49.928574Z",
     "shell.execute_reply.started": "2022-01-06T15:56:45.611506Z"
    },
    "tags": []
   },
   "outputs": [
    {
     "name": "stdout",
     "output_type": "stream",
     "text": [
      "(3387379, 19)\n"
     ]
    },
    {
     "data": {
      "text/html": [
       "<div>\n",
       "<style scoped>\n",
       "    .dataframe tbody tr th:only-of-type {\n",
       "        vertical-align: middle;\n",
       "    }\n",
       "\n",
       "    .dataframe tbody tr th {\n",
       "        vertical-align: top;\n",
       "    }\n",
       "\n",
       "    .dataframe thead th {\n",
       "        text-align: right;\n",
       "    }\n",
       "</style>\n",
       "<table border=\"1\" class=\"dataframe\">\n",
       "  <thead>\n",
       "    <tr style=\"text-align: right;\">\n",
       "      <th></th>\n",
       "      <th>year</th>\n",
       "      <th>emp_length_int</th>\n",
       "      <th>home_ownership_cat</th>\n",
       "      <th>annual_inc</th>\n",
       "      <th>income_cat</th>\n",
       "      <th>loan_amount</th>\n",
       "      <th>term_cat</th>\n",
       "      <th>application_type_cat</th>\n",
       "      <th>purpose_cat</th>\n",
       "      <th>interest_payment_cat</th>\n",
       "      <th>loan_condition_cat</th>\n",
       "      <th>interest_rate</th>\n",
       "      <th>grade_cat</th>\n",
       "      <th>dti</th>\n",
       "      <th>total_pymnt</th>\n",
       "      <th>total_rec_prncp</th>\n",
       "      <th>recoveries</th>\n",
       "      <th>installment</th>\n",
       "      <th>region</th>\n",
       "    </tr>\n",
       "  </thead>\n",
       "  <tbody>\n",
       "    <tr>\n",
       "      <th>0</th>\n",
       "      <td>4</td>\n",
       "      <td>10.0</td>\n",
       "      <td>1</td>\n",
       "      <td>24000</td>\n",
       "      <td>1</td>\n",
       "      <td>5000</td>\n",
       "      <td>1</td>\n",
       "      <td>1</td>\n",
       "      <td>1</td>\n",
       "      <td>1</td>\n",
       "      <td>0</td>\n",
       "      <td>10.65</td>\n",
       "      <td>2</td>\n",
       "      <td>27.65</td>\n",
       "      <td>5861.071414</td>\n",
       "      <td>5000.00</td>\n",
       "      <td>0.00</td>\n",
       "      <td>162.87</td>\n",
       "      <td>3</td>\n",
       "    </tr>\n",
       "    <tr>\n",
       "      <th>1</th>\n",
       "      <td>4</td>\n",
       "      <td>0.5</td>\n",
       "      <td>1</td>\n",
       "      <td>30000</td>\n",
       "      <td>1</td>\n",
       "      <td>2500</td>\n",
       "      <td>2</td>\n",
       "      <td>1</td>\n",
       "      <td>2</td>\n",
       "      <td>2</td>\n",
       "      <td>1</td>\n",
       "      <td>15.27</td>\n",
       "      <td>3</td>\n",
       "      <td>1.00</td>\n",
       "      <td>1008.710000</td>\n",
       "      <td>456.46</td>\n",
       "      <td>117.08</td>\n",
       "      <td>59.83</td>\n",
       "      <td>2</td>\n",
       "    </tr>\n",
       "    <tr>\n",
       "      <th>2</th>\n",
       "      <td>4</td>\n",
       "      <td>10.0</td>\n",
       "      <td>1</td>\n",
       "      <td>12252</td>\n",
       "      <td>1</td>\n",
       "      <td>2400</td>\n",
       "      <td>1</td>\n",
       "      <td>1</td>\n",
       "      <td>3</td>\n",
       "      <td>2</td>\n",
       "      <td>0</td>\n",
       "      <td>15.96</td>\n",
       "      <td>3</td>\n",
       "      <td>8.72</td>\n",
       "      <td>3003.653644</td>\n",
       "      <td>2400.00</td>\n",
       "      <td>0.00</td>\n",
       "      <td>84.33</td>\n",
       "      <td>1</td>\n",
       "    </tr>\n",
       "    <tr>\n",
       "      <th>3</th>\n",
       "      <td>4</td>\n",
       "      <td>10.0</td>\n",
       "      <td>1</td>\n",
       "      <td>49200</td>\n",
       "      <td>1</td>\n",
       "      <td>10000</td>\n",
       "      <td>1</td>\n",
       "      <td>1</td>\n",
       "      <td>4</td>\n",
       "      <td>2</td>\n",
       "      <td>0</td>\n",
       "      <td>13.49</td>\n",
       "      <td>3</td>\n",
       "      <td>20.00</td>\n",
       "      <td>12226.302210</td>\n",
       "      <td>10000.00</td>\n",
       "      <td>0.00</td>\n",
       "      <td>339.31</td>\n",
       "      <td>4</td>\n",
       "    </tr>\n",
       "    <tr>\n",
       "      <th>4</th>\n",
       "      <td>4</td>\n",
       "      <td>1.0</td>\n",
       "      <td>1</td>\n",
       "      <td>80000</td>\n",
       "      <td>1</td>\n",
       "      <td>3000</td>\n",
       "      <td>2</td>\n",
       "      <td>1</td>\n",
       "      <td>4</td>\n",
       "      <td>1</td>\n",
       "      <td>0</td>\n",
       "      <td>12.69</td>\n",
       "      <td>2</td>\n",
       "      <td>17.94</td>\n",
       "      <td>3242.170000</td>\n",
       "      <td>2233.10</td>\n",
       "      <td>0.00</td>\n",
       "      <td>67.79</td>\n",
       "      <td>4</td>\n",
       "    </tr>\n",
       "  </tbody>\n",
       "</table>\n",
       "</div>"
      ],
      "text/plain": [
       "   year  emp_length_int  home_ownership_cat  annual_inc  income_cat  \\\n",
       "0     4            10.0                   1       24000           1   \n",
       "1     4             0.5                   1       30000           1   \n",
       "2     4            10.0                   1       12252           1   \n",
       "3     4            10.0                   1       49200           1   \n",
       "4     4             1.0                   1       80000           1   \n",
       "\n",
       "   loan_amount  term_cat  application_type_cat  purpose_cat  \\\n",
       "0         5000         1                     1            1   \n",
       "1         2500         2                     1            2   \n",
       "2         2400         1                     1            3   \n",
       "3        10000         1                     1            4   \n",
       "4         3000         2                     1            4   \n",
       "\n",
       "   interest_payment_cat  loan_condition_cat  interest_rate  grade_cat    dti  \\\n",
       "0                     1                   0          10.65          2  27.65   \n",
       "1                     2                   1          15.27          3   1.00   \n",
       "2                     2                   0          15.96          3   8.72   \n",
       "3                     2                   0          13.49          3  20.00   \n",
       "4                     1                   0          12.69          2  17.94   \n",
       "\n",
       "    total_pymnt  total_rec_prncp  recoveries  installment  region  \n",
       "0   5861.071414          5000.00        0.00       162.87       3  \n",
       "1   1008.710000           456.46      117.08        59.83       2  \n",
       "2   3003.653644          2400.00        0.00        84.33       1  \n",
       "3  12226.302210         10000.00        0.00       339.31       4  \n",
       "4   3242.170000          2233.10        0.00        67.79       4  "
      ]
     },
     "execution_count": 2,
     "metadata": {},
     "output_type": "execute_result"
    }
   ],
   "source": [
    "loan = pd.read_csv('/datasets/loan_data/loan_p_class.csv')\n",
    "print(loan.shape)\n",
    "loan.head()"
   ]
  },
  {
   "cell_type": "markdown",
   "id": "240425db-c053-4825-a6e5-61ff61ba6246",
   "metadata": {},
   "source": [
    "## Classification\n",
    "### Rscale and split data to training and testing sets "
   ]
  },
  {
   "cell_type": "code",
   "execution_count": 3,
   "id": "34247e26-08ce-40e5-9ecb-ed17c6013378",
   "metadata": {
    "execution": {
     "iopub.execute_input": "2022-01-06T15:56:49.930532Z",
     "iopub.status.busy": "2022-01-06T15:56:49.930389Z",
     "iopub.status.idle": "2022-01-06T15:56:53.156263Z",
     "shell.execute_reply": "2022-01-06T15:56:53.155414Z",
     "shell.execute_reply.started": "2022-01-06T15:56:49.930513Z"
    },
    "tags": []
   },
   "outputs": [],
   "source": [
    "X = loan.drop(['loan_condition_cat'], axis=1) \n",
    "\n",
    "cols = ['year', 'emp_length_int', 'home_ownership_cat', 'annual_inc','income_cat', 'loan_amount', 'term_cat',\n",
    "        'application_type_cat', 'purpose_cat', 'interest_payment_cat', 'interest_rate', 'grade_cat', 'dti', \n",
    "        'total_pymnt', 'total_rec_prncp', 'recoveries', 'installment', 'region']\n",
    "\n",
    "y = loan['loan_condition_cat']\n",
    "y = pd.Series(y.astype(np.int32))\n",
    "\n",
    "\n",
    "X_train,X_test,y_train,y_test = train_test_split(X, y, test_size=0.3, random_state=0)\n",
    "\n",
    "X_train = preprocessing.scale(X_train)\n",
    "X_train = pd.DataFrame(X_train, columns = cols)\n",
    "X_train = pd.DataFrame(X_train.astype(np.float32))\n",
    "\n",
    "X_test = preprocessing.scale(X_test)\n",
    "X_test = pd.DataFrame(X_test, columns = cols)\n",
    "X_test = pd.DataFrame(X_test.astype(np.float32))"
   ]
  },
  {
   "cell_type": "markdown",
   "id": "c97b6ca6-1616-4c9b-a9e7-75310286ef46",
   "metadata": {},
   "source": [
    "### Feature Selection"
   ]
  },
  {
   "cell_type": "code",
   "execution_count": 4,
   "id": "7bc0d3f0-64f0-4bb0-aa3a-894be06f9674",
   "metadata": {
    "execution": {
     "iopub.execute_input": "2022-01-06T15:56:53.157372Z",
     "iopub.status.busy": "2022-01-06T15:56:53.157227Z",
     "iopub.status.idle": "2022-01-06T15:56:53.162051Z",
     "shell.execute_reply": "2022-01-06T15:56:53.161424Z",
     "shell.execute_reply.started": "2022-01-06T15:56:53.157353Z"
    },
    "tags": []
   },
   "outputs": [],
   "source": [
    "def processSubset(X_label, X_train, y_train, X_test, y_test):\n",
    "    # Fit model on feature_set and calculate RSS\n",
    "    X_smf = ' + '.join(X_label)\n",
    "    f     = 'loan_condition_cat ~ {}'.format(X_smf)\n",
    "    # Fit model\n",
    "    lin_reg = smf.ols(formula=f, data=pd.concat([X_train, y_train], axis=1)).fit()\n",
    "    RSS = ((lin_reg.predict(X_test[list(X_label)]) - y_test) ** 2).sum() #on test set\n",
    "    return {'model': lin_reg, 'RSS': RSS}"
   ]
  },
  {
   "cell_type": "code",
   "execution_count": 5,
   "id": "517d8a5c-2516-41d5-8d29-19e76cd4c250",
   "metadata": {
    "execution": {
     "iopub.execute_input": "2022-01-06T15:56:53.162969Z",
     "iopub.status.busy": "2022-01-06T15:56:53.162836Z",
     "iopub.status.idle": "2022-01-06T15:56:53.167910Z",
     "shell.execute_reply": "2022-01-06T15:56:53.167372Z",
     "shell.execute_reply.started": "2022-01-06T15:56:53.162953Z"
    },
    "tags": []
   },
   "outputs": [],
   "source": [
    "def forward(predictors, X_train, y_train, X_test, y_test):\n",
    "\n",
    "    # Pull out predictors we still need to process\n",
    "    remaining_predictors = [p for p in X_train.columns if p not in predictors]\n",
    "    \n",
    "    results = []\n",
    "    \n",
    "    for p in remaining_predictors:\n",
    "        results.append(processSubset(predictors+[p], X_train, y_train, X_test, y_test))\n",
    "    \n",
    "    # Wrap everything up in a nice dataframe\n",
    "    models = pd.DataFrame(results)\n",
    "    \n",
    "    # Choose the model with the highest RSS\n",
    "    best_model = models.loc[models['RSS'].argmin()]\n",
    "    \n",
    "    # Return the best model, along with some other useful information about the model\n",
    "    return best_model"
   ]
  },
  {
   "cell_type": "code",
   "execution_count": 6,
   "id": "9c3515d1-f726-496d-befe-ad8eb65cc366",
   "metadata": {
    "execution": {
     "iopub.execute_input": "2022-01-06T15:56:53.170042Z",
     "iopub.status.busy": "2022-01-06T15:56:53.169897Z",
     "iopub.status.idle": "2022-01-06T16:03:07.748744Z",
     "shell.execute_reply": "2022-01-06T16:03:07.748184Z",
     "shell.execute_reply.started": "2022-01-06T15:56:53.170024Z"
    },
    "tags": []
   },
   "outputs": [
    {
     "name": "stdout",
     "output_type": "stream",
     "text": [
      "1 ['term_cat']\n",
      "2 ['term_cat', 'year']\n",
      "3 ['term_cat', 'year', 'region']\n",
      "4 ['term_cat', 'year', 'region', 'emp_length_int']\n",
      "5 ['term_cat', 'year', 'region', 'emp_length_int', 'installment']\n",
      "6 ['term_cat', 'year', 'region', 'emp_length_int', 'installment', 'purpose_cat']\n",
      "7 ['term_cat', 'year', 'region', 'emp_length_int', 'installment', 'purpose_cat', 'income_cat']\n",
      "8 ['term_cat', 'year', 'region', 'emp_length_int', 'installment', 'purpose_cat', 'income_cat', 'home_ownership_cat']\n",
      "9 ['term_cat', 'year', 'region', 'emp_length_int', 'installment', 'purpose_cat', 'income_cat', 'home_ownership_cat', 'annual_inc']\n",
      "10 ['term_cat', 'year', 'region', 'emp_length_int', 'installment', 'purpose_cat', 'income_cat', 'home_ownership_cat', 'annual_inc', 'application_type_cat']\n",
      "11 ['term_cat', 'year', 'region', 'emp_length_int', 'installment', 'purpose_cat', 'income_cat', 'home_ownership_cat', 'annual_inc', 'application_type_cat', 'recoveries']\n",
      "12 ['term_cat', 'year', 'region', 'emp_length_int', 'installment', 'purpose_cat', 'income_cat', 'home_ownership_cat', 'annual_inc', 'application_type_cat', 'recoveries', 'interest_payment_cat']\n",
      "13 ['term_cat', 'year', 'region', 'emp_length_int', 'installment', 'purpose_cat', 'income_cat', 'home_ownership_cat', 'annual_inc', 'application_type_cat', 'recoveries', 'interest_payment_cat', 'dti']\n",
      "14 ['term_cat', 'year', 'region', 'emp_length_int', 'installment', 'purpose_cat', 'income_cat', 'home_ownership_cat', 'annual_inc', 'application_type_cat', 'recoveries', 'interest_payment_cat', 'dti', 'interest_rate']\n",
      "15 ['term_cat', 'year', 'region', 'emp_length_int', 'installment', 'purpose_cat', 'income_cat', 'home_ownership_cat', 'annual_inc', 'application_type_cat', 'recoveries', 'interest_payment_cat', 'dti', 'interest_rate', 'loan_amount']\n",
      "16 ['term_cat', 'year', 'region', 'emp_length_int', 'installment', 'purpose_cat', 'income_cat', 'home_ownership_cat', 'annual_inc', 'application_type_cat', 'recoveries', 'interest_payment_cat', 'dti', 'interest_rate', 'loan_amount', 'grade_cat']\n",
      "17 ['term_cat', 'year', 'region', 'emp_length_int', 'installment', 'purpose_cat', 'income_cat', 'home_ownership_cat', 'annual_inc', 'application_type_cat', 'recoveries', 'interest_payment_cat', 'dti', 'interest_rate', 'loan_amount', 'grade_cat', 'total_pymnt']\n",
      "18 ['term_cat', 'year', 'region', 'emp_length_int', 'installment', 'purpose_cat', 'income_cat', 'home_ownership_cat', 'annual_inc', 'application_type_cat', 'recoveries', 'interest_payment_cat', 'dti', 'interest_rate', 'loan_amount', 'grade_cat', 'total_pymnt', 'total_rec_prncp']\n"
     ]
    }
   ],
   "source": [
    "models_test = pd.DataFrame(columns=['RSS', 'model'])\n",
    "\n",
    "predictors = []\n",
    "\n",
    "for i in range(1,len(X.columns)+1):\n",
    "    models_test.loc[i] = forward(predictors, X_train, y_train, X_test, y_test)\n",
    "    exog = models_test.loc[i]['model'].model.exog_names.copy()\n",
    "    exog.remove('Intercept')\n",
    "    predictors = exog\n",
    "    print(i, predictors)"
   ]
  },
  {
   "cell_type": "code",
   "execution_count": 7,
   "id": "17eb96a4-4047-406c-b1df-d3816b09c512",
   "metadata": {
    "execution": {
     "iopub.execute_input": "2022-01-06T16:03:07.749948Z",
     "iopub.status.busy": "2022-01-06T16:03:07.749786Z",
     "iopub.status.idle": "2022-01-06T16:03:07.937724Z",
     "shell.execute_reply": "2022-01-06T16:03:07.936942Z",
     "shell.execute_reply.started": "2022-01-06T16:03:07.749927Z"
    },
    "tags": []
   },
   "outputs": [
    {
     "name": "stdout",
     "output_type": "stream",
     "text": [
      "8\n"
     ]
    },
    {
     "data": {
      "image/png": "[encoded data removed]",
      "text/plain": [
       "<Figure size 432x288 with 1 Axes>"
      ]
     },
     "metadata": {
      "needs_background": "light"
     },
     "output_type": "display_data"
    }
   ],
   "source": [
    "sns.lineplot(x=range(1,19), y=models_test['RSS'])\n",
    "plt.xlabel('# Predictors')\n",
    "plt.ylabel('RSS')\n",
    "plt.plot(models_test['RSS'].argmin()+1, models_test['RSS'].min(), 'or')\n",
    "print(models_test['RSS'].argmin()+1)"
   ]
  },
  {
   "cell_type": "markdown",
   "id": "e262bab4-2c4b-475a-8bd8-d8e660a7ae35",
   "metadata": {},
   "source": [
    "### Define function to compute  accuracy and AUC value both of training and testing set with different model"
   ]
  },
  {
   "cell_type": "code",
   "execution_count": 8,
   "id": "ded1eafc-d11a-4cd4-8c8b-f990c9548c45",
   "metadata": {
    "execution": {
     "iopub.execute_input": "2022-01-06T16:03:07.938803Z",
     "iopub.status.busy": "2022-01-06T16:03:07.938651Z",
     "iopub.status.idle": "2022-01-06T16:03:07.943841Z",
     "shell.execute_reply": "2022-01-06T16:03:07.943224Z",
     "shell.execute_reply.started": "2022-01-06T16:03:07.938783Z"
    },
    "tags": []
   },
   "outputs": [],
   "source": [
    "def classification_skl(model, X_train, X_test, y_train, y_test):\n",
    "    model.fit(X_train, y_train)\n",
    "    pred_ts = model.predict(X_test)\n",
    "    pred_tr = model.predict(X_train)\n",
    "  \n",
    "    #Print accuracy\n",
    "    train_acc = metrics.accuracy_score(pred_tr, y_train)\n",
    "    train_auc = metrics.roc_auc_score(y_train, pred_tr)\n",
    "    print (\"Training set accuracy : %s\" % \"{0:.3%}\".format(train_acc))\n",
    "    print (\"Training set AUC : %s\" % \"{0:.3%}\".format(train_auc))\n",
    "\n",
    "    test_acc = metrics.accuracy_score(pred_ts, y_test)\n",
    "    test_auc = metrics.roc_auc_score(y_test, pred_ts)\n",
    "    print (\"Testing set accuracy : %s\" % \"{0:.3%}\".format(test_acc))\n",
    "    print (\"Testing set AUC : %s\" % \"{0:.3%}\".format(test_auc))\n",
    "\n"
   ]
  },
  {
   "cell_type": "code",
   "execution_count": 9,
   "id": "30c94476-f619-4d55-a934-a397d0cb49b1",
   "metadata": {
    "execution": {
     "iopub.execute_input": "2022-01-06T16:03:07.944728Z",
     "iopub.status.busy": "2022-01-06T16:03:07.944541Z",
     "iopub.status.idle": "2022-01-06T16:03:07.949897Z",
     "shell.execute_reply": "2022-01-06T16:03:07.949344Z",
     "shell.execute_reply.started": "2022-01-06T16:03:07.944699Z"
    },
    "tags": []
   },
   "outputs": [],
   "source": [
    "def classification_cu(model, X_train, X_test, y_train, y_test):\n",
    "    model.fit(X_train, y_train)\n",
    "    pred_ts = model.predict(X_test)\n",
    "    pred_tr = model.predict(X_train)\n",
    "  \n",
    "    train_acc = cuacc(y_train.to_numpy(), pred_tr) \n",
    "    train_auc = cuauc(y_train.to_numpy(), pred_tr)\n",
    "    print (\"Training set accuracy : %s\" % \"{0:.3%}\".format(train_acc))\n",
    "    print (\"Training set AUC : %s\" % \"{0:.3%}\".format(train_auc))\n",
    "\n",
    "    test_acc = cuacc(y_test.to_numpy(), pred_ts)\n",
    "    test_auc = cuauc(y_test.to_numpy(), pred_ts)\n",
    "    print (\"Testing set accuracy : %s\" % \"{0:.3%}\".format(test_acc))\n",
    "    print (\"Testing set AUC : %s\" % \"{0:.3%}\".format(test_auc))\n"
   ]
  },
  {
   "cell_type": "markdown",
   "id": "51d08ff3-f91a-4e23-8ce3-cd811bf9528e",
   "metadata": {
    "tags": []
   },
   "source": [
    "### Logistic Regression"
   ]
  },
  {
   "cell_type": "code",
   "execution_count": 10,
   "id": "f4fde801-1727-465a-aed5-ca1d88088137",
   "metadata": {
    "execution": {
     "iopub.execute_input": "2022-01-06T16:03:07.950757Z",
     "iopub.status.busy": "2022-01-06T16:03:07.950609Z",
     "iopub.status.idle": "2022-01-06T16:03:07.954486Z",
     "shell.execute_reply": "2022-01-06T16:03:07.953980Z",
     "shell.execute_reply.started": "2022-01-06T16:03:07.950738Z"
    }
   },
   "outputs": [],
   "source": [
    "predictor_var = ['term_cat', 'year', 'region', 'emp_length_int', 'installment', 'purpose_cat', 'income_cat', 'home_ownership_cat']"
   ]
  },
  {
   "cell_type": "code",
   "execution_count": 17,
   "id": "80af7a76-442b-4724-becc-e277a80edf49",
   "metadata": {
    "execution": {
     "iopub.execute_input": "2022-01-06T16:08:18.018175Z",
     "iopub.status.busy": "2022-01-06T16:08:18.017726Z",
     "iopub.status.idle": "2022-01-06T16:08:22.680411Z",
     "shell.execute_reply": "2022-01-06T16:08:22.679786Z",
     "shell.execute_reply.started": "2022-01-06T16:08:18.018125Z"
    },
    "tags": []
   },
   "outputs": [
    {
     "name": "stdout",
     "output_type": "stream",
     "text": [
      "Training set accuracy : 61.404%\n",
      "Training set AUC : 58.037%\n",
      "Testing set accuracy : 61.424%\n",
      "Testing set AUC : 58.050%\n"
     ]
    }
   ],
   "source": [
    "lr_model = LogisticRegression()\n",
    "classification_skl(lr_model, X_train[predictor_var], X_test[predictor_var], y_train, y_test)"
   ]
  },
  {
   "cell_type": "markdown",
   "id": "2b8958d6-e6fc-4721-be0a-47f9770fe84c",
   "metadata": {},
   "source": [
    "### Decision tree "
   ]
  },
  {
   "cell_type": "code",
   "execution_count": 18,
   "id": "dc5a4bd6-70b2-4063-9bcc-9aee9d0bc5bd",
   "metadata": {
    "execution": {
     "iopub.execute_input": "2022-01-06T16:08:26.190956Z",
     "iopub.status.busy": "2022-01-06T16:08:26.190508Z",
     "iopub.status.idle": "2022-01-06T16:09:31.175615Z",
     "shell.execute_reply": "2022-01-06T16:09:31.174730Z",
     "shell.execute_reply.started": "2022-01-06T16:08:26.190903Z"
    },
    "tags": []
   },
   "outputs": [
    {
     "name": "stdout",
     "output_type": "stream",
     "text": [
      "Training set accuracy : 100.000%\n",
      "Training set AUC : 100.000%\n",
      "Testing set accuracy : 60.984%\n",
      "Testing set AUC : 58.854%\n"
     ]
    }
   ],
   "source": [
    "dt_model = DecisionTreeClassifier(random_state=0)\n",
    "classification_skl(dt_model, X_train[predictor_var], X_test[predictor_var], y_train, y_test)"
   ]
  },
  {
   "cell_type": "markdown",
   "id": "6456d7d8-3d06-46ae-b809-cc2db5636983",
   "metadata": {},
   "source": [
    "### Random Forest"
   ]
  },
  {
   "cell_type": "code",
   "execution_count": 19,
   "id": "771567d1-6ab4-433a-9207-335960eda8a3",
   "metadata": {
    "execution": {
     "iopub.execute_input": "2022-01-06T16:09:41.203720Z",
     "iopub.status.busy": "2022-01-06T16:09:41.203280Z",
     "iopub.status.idle": "2022-01-06T16:11:07.961370Z",
     "shell.execute_reply": "2022-01-06T16:11:07.960414Z",
     "shell.execute_reply.started": "2022-01-06T16:09:41.203666Z"
    },
    "tags": []
   },
   "outputs": [
    {
     "name": "stdout",
     "output_type": "stream",
     "text": [
      "Training set accuracy : 69.336%\n",
      "Training set AUC : 65.239%\n",
      "Testing set accuracy : 61.587%\n",
      "Testing set AUC : 65.539%\n"
     ]
    }
   ],
   "source": [
    "rf_model = curfc(n_estimators=500, max_depth=16, max_features='auto', random_state=0, n_streams=1)\n",
    "classification_cu(rf_model, X_train[predictor_var], X_test[predictor_var], y_train, y_test)"
   ]
  },
  {
   "cell_type": "markdown",
   "id": "b086e623-726d-4c3a-affd-86299aea228f",
   "metadata": {},
   "source": [
    "### KNN"
   ]
  },
  {
   "cell_type": "code",
   "execution_count": 20,
   "id": "b75b87b9-5b68-4dd8-968e-51dff4cffc82",
   "metadata": {
    "execution": {
     "iopub.execute_input": "2022-01-06T16:11:07.978274Z",
     "iopub.status.busy": "2022-01-06T16:11:07.978121Z",
     "iopub.status.idle": "2022-01-06T16:13:11.332569Z",
     "shell.execute_reply": "2022-01-06T16:13:11.331528Z",
     "shell.execute_reply.started": "2022-01-06T16:11:07.978256Z"
    },
    "tags": []
   },
   "outputs": [
    {
     "name": "stdout",
     "output_type": "stream",
     "text": [
      "Training set accuracy : 100.000%\n",
      "Training set AUC : 100.000%\n",
      "Testing set accuracy : 61.089%\n",
      "Testing set AUC : 58.593%\n"
     ]
    }
   ],
   "source": [
    "knn_model = KNeighborsClassifier(n_neighbors=1)\n",
    "classification_cu(knn_model, X_train[predictor_var], X_test[predictor_var], y_train, y_test)"
   ]
  },
  {
   "cell_type": "markdown",
   "id": "cab3e43f-5c92-4705-bcc8-d606a49d0af7",
   "metadata": {},
   "source": [
    "### Naive Bayes"
   ]
  },
  {
   "cell_type": "code",
   "execution_count": 21,
   "id": "23f463e2-3f44-4117-ae06-49c8f16d0aef",
   "metadata": {
    "execution": {
     "iopub.execute_input": "2022-01-06T16:13:11.335156Z",
     "iopub.status.busy": "2022-01-06T16:13:11.334879Z",
     "iopub.status.idle": "2022-01-06T16:13:11.731098Z",
     "shell.execute_reply": "2022-01-06T16:13:11.730220Z",
     "shell.execute_reply.started": "2022-01-06T16:13:11.335121Z"
    },
    "tags": []
   },
   "outputs": [
    {
     "name": "stdout",
     "output_type": "stream",
     "text": [
      "Training set accuracy : 58.894%\n",
      "Training set AUC : 65.928%\n",
      "Testing set accuracy : 59.190%\n",
      "Testing set AUC : 65.763%\n"
     ]
    }
   ],
   "source": [
    "nb_model = GaussianNB()\n",
    "classification_cu(nb_model, X_train[predictor_var], X_test[predictor_var], y_train, y_test)"
   ]
  },
  {
   "cell_type": "markdown",
   "id": "dea780b0-1b86-4a54-a460-f4bfcb9cb008",
   "metadata": {},
   "source": [
    "### SVM"
   ]
  },
  {
   "cell_type": "code",
   "execution_count": 16,
   "id": "a5102aa4-f791-4b74-a01c-0621a6bf3e52",
   "metadata": {
    "execution": {
     "iopub.execute_input": "2022-01-06T16:07:50.230097Z",
     "iopub.status.busy": "2022-01-06T16:07:50.229932Z",
     "iopub.status.idle": "2022-01-06T16:07:50.257104Z",
     "shell.execute_reply": "2022-01-06T16:07:50.256388Z",
     "shell.execute_reply.started": "2022-01-06T16:07:50.230077Z"
    },
    "tags": []
   },
   "outputs": [],
   "source": [
    "# svc_model = SVC(kernel='poly', degree=2, gamma='auto', C=1)\n",
    "# classification_cu(svc_model, X_train[predictor_var], X_test[predictor_var], y_train, y_test)"
   ]
  }
 ],
 "metadata": {
  "kernelspec": {
   "display_name": "rapids",
   "language": "python",
   "name": "rapids"
  },
  "language_info": {
   "codemirror_mode": {
    "name": "ipython",
    "version": 3
   },
   "file_extension": ".py",
   "mimetype": "text/x-python",
   "name": "python",
   "nbconvert_exporter": "python",
   "pygments_lexer": "ipython3",
   "version": "3.8.12"
  }
 },
 "nbformat": 4,
 "nbformat_minor": 5
}
